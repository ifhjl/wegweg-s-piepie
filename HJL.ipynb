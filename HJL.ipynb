{
 "cells": [
  {
   "cell_type": "code",
   "execution_count": 34,
   "metadata": {},
   "outputs": [],
   "source": [
    "import requests as rq\n",
    "from lxml import etree\n",
    "import pandas as pd\n",
    "from multiprocessing.dummy import Pool as ThreadPool"
   ]
  },
  {
   "cell_type": "code",
   "execution_count": null,
   "metadata": {},
   "outputs": [],
   "source": [
    "main_url = \"http://tousu.315che.com/tousulist/serial/93/\"\n",
    "data = rq.get(main_url)\n",
    "data.encoding = 'utf-8'\n",
    "dom = etree.HTML(data.text, etree.HTMLParser(encoding='utf-8'))"
   ]
  },
  {
   "cell_type": "code",
   "execution_count": null,
   "metadata": {},
   "outputs": [],
   "source": [
    "type_name = dom.xpath(\"/html/body/div[1]/div[2]/div[2]/div[1]/div[1]/div[3]/ul/li[1]/div[2]/div[2]/div/a/text()\")\n",
    "type_url = dom.xpath(\"/html/body/div[1]/div[2]/div[2]/div[1]/div[1]/div[3]/ul/li[1]/div[2]/div[2]/div/a/@href\")\n",
    "type_url[120] = \"http://tousu.315che.com/tousulist/serial/93/\""
   ]
  },
  {
   "cell_type": "code",
   "execution_count": null,
   "metadata": {},
   "outputs": [],
   "source": [
    "#爬取错误的网址(获取各个报告)\n",
    "wrong_page_url = []\n",
    "\n",
    "#获取所有投诉界面网址时出错的网址\n",
    "wrong_cases_url = []\n",
    "\n",
    "#获取详细案件信息时出错的网址\n",
    "cases_wrong_url = []\n",
    "\n",
    "#各个品牌的页面的网址\n",
    "detail_url = []\n",
    "\n",
    "#各个投诉界面的网址\n",
    "cases_url = []\n",
    "\n",
    "#最终的数据\n",
    "cases_data = []\n",
    "\n",
    "#诡异？\n",
    "strange_url = []\n",
    "\n",
    "count = 0"
   ]
  },
  {
   "cell_type": "code",
   "execution_count": null,
   "metadata": {},
   "outputs": [],
   "source": [
    "#functions\n",
    "\n",
    "def spider(urls,func,thread_num):\n",
    "    pool = ThreadPool(thread_num)\n",
    "    pool.map(func, urls)\n",
    "    pool.close()\n",
    "    pool.join()\n",
    "\n",
    "\n",
    "def get_detail_url(url):\n",
    "    try:\n",
    "        detail = rq.get(url)\n",
    "\n",
    "        if url in wrong_page_url:\n",
    "            wrong_page_url.remove(url)\n",
    "\n",
    "        detail.encoding = 'utf-8'\n",
    "        dom_detail = etree.HTML(detail.text, etree.HTMLParser(encoding='utf-8'))\n",
    "\n",
    "        num = int(dom_detail.xpath(\"/html/body/div[1]/div[2]/div[2]/div[1]/div[2]/div[1]/span/em/text()\")[0])\n",
    "        if num != 0:\n",
    "            #print(\"{} :num{}\".format(url,num))\n",
    "            pages = int(dom_detail.xpath(\"/html/body/div[1]/div[2]/div[2]/div[1]/div[2]/div[3]/div/span[1]/text()\")[0][1:-1])\n",
    "            for page in range(1,pages+1):\n",
    "                detail_url.append(url + \"0/0/0/{}.htm\".format(page))\n",
    "\n",
    "    except Exception as e:\n",
    "        if url not in wrong_page_url:\n",
    "            wrong_page_url.append(url)\n",
    "            #print(e)\n",
    "\n",
    "def get_cases_url(url):\n",
    "\n",
    "    try:\n",
    "        detail = rq.get(url)\n",
    "\n",
    "        if url in wrong_cases_url:\n",
    "            wrong_cases_url.remove(url)\n",
    "\n",
    "        detail.encoding = 'utf-8'\n",
    "        dom_detail = etree.HTML(detail.text, etree.HTMLParser(encoding='utf-8'))\n",
    "\n",
    "        for i in dom_detail.xpath(\"/html/body/div[1]/div[2]/div[2]/div[1]/div[2]/div[2]/ul/li/a/@href\"):\n",
    "            cases_url.append(i)\n",
    "\n",
    "\n",
    "    except Exception as e:\n",
    "\n",
    "        if url not in wrong_cases_url:\n",
    "            wrong_cases_url.append(url)\n",
    "            #print(e)\n",
    "\n",
    "def cases(url):\n",
    "\n",
    "    global count\n",
    "\n",
    "    count+=1\n",
    "\n",
    "    result = 0\n",
    "\n",
    "    try:\n",
    "\n",
    "        da = rq.get(url)\n",
    "\n",
    "        #判断网页是否正常打开\n",
    "        if da.status_code == 200:\n",
    "\n",
    "            if url in cases_wrong_url:\n",
    "                    cases_wrong_url.remove(url)\n",
    "\n",
    "\n",
    "            \n",
    "            if len(da.text) != 26147:\n",
    "\n",
    "                da.encoding = 'utf-8'\n",
    "                dom = etree.HTML(da.text, etree.HTMLParser(encoding='utf-8'))\n",
    "                type_name = dom.xpath(\"/html/body/div[1]/div[2]/div[1]/a[3]/text()\")[0]\n",
    "                name = dom.xpath(\"/html/body/div[1]/div[2]/div[1]/a[4]/text()\")[0]\n",
    "                detail = dom.xpath(\"/html/body/div[1]/div[2]/div[2]/div[1]/div[1]/div/div[1]/p/text()\")[0]\n",
    "                num = dom.xpath(\"/html/body/div[1]/div[2]/div[2]/div[1]/div[1]/div/div[3]/p[2]/text()\")[0]\n",
    "                ques = dom.xpath(\"/html/body/div[1]/div[2]/div[2]/div[1]/div[1]/div/div[3]/p[3]/text()\")[0]\n",
    "                time = dom.xpath(\"/html/body/div[1]/div[2]/div[2]/div[1]/div[1]/div/div[3]/p[4]/text()\")[0]\n",
    "                seller = dom.xpath(\"/html/body/div[1]/div[2]/div[2]/div[1]/div[1]/div/div[3]/p[5]/text()\")[0]\n",
    "                \n",
    "                #将数据存入字典\n",
    "                case = {'type_name':type_name,'name':name,'detail':detail,'num':num,'ques':ques,'time':time,'seller':seller}\n",
    "\n",
    "                #将字典存入列表\n",
    "                cases_data.append(case)\n",
    "\n",
    "                #print(\"This shit work ! {}\".format(url))\n",
    "\n",
    "                result = \"good!\"\n",
    "\n",
    "            else:\n",
    "                result = \"this website is a piece of shit! It's url is {}\".format(url)\n",
    "        \n",
    "        else:\n",
    "             cases_wrong_url.append(url)\n",
    "             result = \"might be a good website need observation.\"\n",
    "\n",
    "    except Exception as e:\n",
    "\n",
    "        if url not in cases_wrong_url:\n",
    "            cases_wrong_url.append(url)\n",
    "            print(url)\n",
    "            print(e)\n",
    "            result = \"might be a good website need observation.\"\n",
    "    \n",
    "    print(\"This is the {}th case and the result is {}\".format(count,result))\n"
   ]
  },
  {
   "cell_type": "code",
   "execution_count": null,
   "metadata": {},
   "outputs": [],
   "source": [
    "#获取某个品牌的所有页面的网址->detail_url\n",
    "spider(type_url,get_detail_url,100000)\n",
    "while (len(wrong_page_url) > 1):\n",
    "    print(\"left:{}\".format(len(wrong_page_url)))\n",
    "    spider(wrong_page_url,get_detail_url,100000)"
   ]
  },
  {
   "cell_type": "code",
   "execution_count": null,
   "metadata": {},
   "outputs": [],
   "source": [
    "#获取某个品牌的所有投诉界面的网址->cases_url\n",
    "spider(detail_url,get_cases_url,100000)\n",
    "while (len(wrong_cases_url) > 1):\n",
    "    print(\"left:{}\".format(len(wrong_cases_url)))\n",
    "    spider(wrong_cases_url,get_cases_url,100000)"
   ]
  },
  {
   "cell_type": "code",
   "execution_count": 38,
   "metadata": {},
   "outputs": [
    {
     "name": "stdout",
     "output_type": "stream",
     "text": [
      "left:100657\n",
      "left:100657\n"
     ]
    }
   ],
   "source": [
    "#获取各个投诉界面的信息(有问题，未解决)\n",
    "spider(cases_url,cases,1000)\n",
    "while (len(cases_wrong_url) > 1):\n",
    "    print(\"left:{}\".format(len(cases_wrong_url)))\n",
    "    spider(cases_wrong_url,cases,1000)"
   ]
  }
 ],
 "metadata": {
  "kernelspec": {
   "display_name": "Python 3",
   "language": "python",
   "name": "python3"
  },
  "language_info": {
   "codemirror_mode": {
    "name": "ipython",
    "version": 3
   },
   "file_extension": ".py",
   "mimetype": "text/x-python",
   "name": "python",
   "nbconvert_exporter": "python",
   "pygments_lexer": "ipython3",
   "version": "3.10.11"
  },
  "orig_nbformat": 4
 },
 "nbformat": 4,
 "nbformat_minor": 2
}
